{
 "cells": [
  {
   "cell_type": "code",
   "execution_count": 1,
   "id": "75e3caa7",
   "metadata": {},
   "outputs": [
    {
     "name": "stderr",
     "output_type": "stream",
     "text": [
      "WARNING: Skipping torch as it is not installed.\n",
      "WARNING: Skipping torchvision as it is not installed.\n"
     ]
    }
   ],
   "source": [
    "! pip uninstall torch torchvision -y\n"
   ]
  },
  {
   "cell_type": "code",
   "execution_count": 2,
   "id": "6852c143",
   "metadata": {},
   "outputs": [
    {
     "name": "stdout",
     "output_type": "stream",
     "text": [
      "Looking in links: https://download.pytorch.org/whl/torch_stable.html\n",
      "Collecting torch==1.6.0+cu101\n",
      "  Using cached https://download.pytorch.org/whl/cu101/torch-1.6.0%2Bcu101-cp38-cp38-win_amd64.whl (1021.6 MB)\n",
      "Collecting torchvision==0.7.0+cu101\n",
      "  Using cached https://download.pytorch.org/whl/cu101/torchvision-0.7.0%2Bcu101-cp38-cp38-win_amd64.whl (1.1 MB)\n",
      "Collecting numpy\n",
      "  Downloading numpy-1.21.0-cp38-cp38-win_amd64.whl (14.0 MB)\n",
      "Collecting future\n",
      "  Downloading future-0.18.2.tar.gz (829 kB)\n",
      "Collecting pillow>=4.1.1\n",
      "  Downloading Pillow-8.3.0-cp38-cp38-win_amd64.whl (2.3 MB)\n",
      "Building wheels for collected packages: future\n",
      "  Building wheel for future (setup.py): started\n",
      "  Building wheel for future (setup.py): finished with status 'done'\n",
      "  Created wheel for future: filename=future-0.18.2-py3-none-any.whl size=491059 sha256=b3e22e344fcf4240c0bfefa14075fdec6519d9cd086f471fb1fd0c1eb2af3240\n",
      "  Stored in directory: c:\\users\\valon_januzaj\\appdata\\local\\pip\\cache\\wheels\\8e\\70\\28\\3d6ccd6e315f65f245da085482a2e1c7d14b90b30f239e2cf4\n",
      "Successfully built future\n",
      "Installing collected packages: numpy, future, torch, pillow, torchvision\n",
      "Successfully installed future-0.18.2 numpy-1.21.0 pillow-8.3.0 torch-1.6.0+cu101 torchvision-0.7.0+cu101\n",
      "Collecting transformers\n",
      "  Using cached transformers-4.8.2-py3-none-any.whl (2.5 MB)\n",
      "Collecting pyyaml\n",
      "  Downloading PyYAML-5.4.1-cp38-cp38-win_amd64.whl (213 kB)\n",
      "Requirement already satisfied: numpy>=1.17 in c:\\users\\valon_januzaj\\anaconda3\\envs\\python-model\\lib\\site-packages (from transformers) (1.21.0)\n",
      "Collecting tqdm>=4.27\n",
      "  Downloading tqdm-4.61.1-py2.py3-none-any.whl (75 kB)\n",
      "Collecting regex!=2019.12.17\n",
      "  Downloading regex-2021.7.1-cp38-cp38-win_amd64.whl (270 kB)\n",
      "Collecting tokenizers<0.11,>=0.10.1\n",
      "  Using cached tokenizers-0.10.3-cp38-cp38-win_amd64.whl (2.0 MB)\n",
      "Collecting filelock\n",
      "  Downloading filelock-3.0.12-py3-none-any.whl (7.6 kB)\n",
      "Collecting sacremoses\n",
      "  Using cached sacremoses-0.0.45-py3-none-any.whl (895 kB)\n",
      "Requirement already satisfied: packaging in c:\\users\\valon_januzaj\\anaconda3\\envs\\python-model\\lib\\site-packages (from transformers) (20.9)\n",
      "Collecting huggingface-hub==0.0.12\n",
      "  Using cached huggingface_hub-0.0.12-py3-none-any.whl (37 kB)\n",
      "Collecting requests\n",
      "  Downloading requests-2.25.1-py2.py3-none-any.whl (61 kB)\n",
      "Collecting typing-extensions\n",
      "  Downloading typing_extensions-3.10.0.0-py3-none-any.whl (26 kB)\n",
      "Requirement already satisfied: pyparsing>=2.0.2 in c:\\users\\valon_januzaj\\anaconda3\\envs\\python-model\\lib\\site-packages (from packaging->transformers) (2.4.7)\n",
      "Collecting chardet<5,>=3.0.2\n",
      "  Downloading chardet-4.0.0-py2.py3-none-any.whl (178 kB)\n",
      "Collecting urllib3<1.27,>=1.21.1\n",
      "  Downloading urllib3-1.26.6-py2.py3-none-any.whl (138 kB)\n",
      "Collecting idna<3,>=2.5\n",
      "  Downloading idna-2.10-py2.py3-none-any.whl (58 kB)\n",
      "Requirement already satisfied: certifi>=2017.4.17 in c:\\users\\valon_januzaj\\anaconda3\\envs\\python-model\\lib\\site-packages (from requests->transformers) (2021.5.30)\n",
      "Requirement already satisfied: six in c:\\users\\valon_januzaj\\anaconda3\\envs\\python-model\\lib\\site-packages (from sacremoses->transformers) (1.16.0)\n",
      "Collecting joblib\n",
      "  Downloading joblib-1.0.1-py3-none-any.whl (303 kB)\n",
      "Collecting click\n",
      "  Downloading click-8.0.1-py3-none-any.whl (97 kB)\n",
      "Requirement already satisfied: colorama in c:\\users\\valon_januzaj\\anaconda3\\envs\\python-model\\lib\\site-packages (from click->sacremoses->transformers) (0.4.4)\n",
      "Installing collected packages: urllib3, idna, chardet, typing-extensions, tqdm, requests, regex, joblib, filelock, click, tokenizers, sacremoses, pyyaml, huggingface-hub, transformers\n",
      "Successfully installed chardet-4.0.0 click-8.0.1 filelock-3.0.12 huggingface-hub-0.0.12 idna-2.10 joblib-1.0.1 pyyaml-5.4.1 regex-2021.7.1 requests-2.25.1 sacremoses-0.0.45 tokenizers-0.10.3 tqdm-4.61.1 transformers-4.8.2 typing-extensions-3.10.0.0 urllib3-1.26.6\n",
      "Collecting simpletransformers\n",
      "  Using cached simpletransformers-0.61.9-py3-none-any.whl (220 kB)\n",
      "Requirement already satisfied: tokenizers in c:\\users\\valon_januzaj\\anaconda3\\envs\\python-model\\lib\\site-packages (from simpletransformers) (0.10.3)\n",
      "Requirement already satisfied: requests in c:\\users\\valon_januzaj\\anaconda3\\envs\\python-model\\lib\\site-packages (from simpletransformers) (2.25.1)\n",
      "Collecting scipy\n",
      "  Downloading scipy-1.7.0-cp38-cp38-win_amd64.whl (33.7 MB)\n",
      "Requirement already satisfied: numpy in c:\\users\\valon_januzaj\\anaconda3\\envs\\python-model\\lib\\site-packages (from simpletransformers) (1.21.0)\n",
      "Collecting tensorboardx\n",
      "  Using cached tensorboardX-2.4-py2.py3-none-any.whl (124 kB)\n",
      "Collecting streamlit\n",
      "  Downloading streamlit-0.84.0-py2.py3-none-any.whl (7.8 MB)\n",
      "Collecting sentencepiece\n",
      "  Using cached sentencepiece-0.1.96-cp38-cp38-win_amd64.whl (1.1 MB)\n",
      "Requirement already satisfied: regex in c:\\users\\valon_januzaj\\anaconda3\\envs\\python-model\\lib\\site-packages (from simpletransformers) (2021.7.1)\n",
      "Collecting scikit-learn\n",
      "  Downloading scikit_learn-0.24.2-cp38-cp38-win_amd64.whl (6.9 MB)\n",
      "Collecting pandas\n",
      "  Downloading pandas-1.2.5-cp38-cp38-win_amd64.whl (9.3 MB)\n",
      "Collecting seqeval\n",
      "  Using cached seqeval-1.2.2-py3-none-any.whl\n",
      "Requirement already satisfied: transformers>=4.2.0 in c:\\users\\valon_januzaj\\anaconda3\\envs\\python-model\\lib\\site-packages (from simpletransformers) (4.8.2)\n",
      "Collecting datasets\n",
      "  Using cached datasets-1.8.0-py3-none-any.whl (237 kB)\n",
      "Requirement already satisfied: tqdm>=4.47.0 in c:\\users\\valon_januzaj\\anaconda3\\envs\\python-model\\lib\\site-packages (from simpletransformers) (4.61.1)\n",
      "Collecting wandb>=0.10.32\n",
      "  Using cached wandb-0.10.33-py2.py3-none-any.whl (1.8 MB)\n",
      "Requirement already satisfied: pyyaml in c:\\users\\valon_januzaj\\anaconda3\\envs\\python-model\\lib\\site-packages (from transformers>=4.2.0->simpletransformers) (5.4.1)\n",
      "Requirement already satisfied: huggingface-hub==0.0.12 in c:\\users\\valon_januzaj\\anaconda3\\envs\\python-model\\lib\\site-packages (from transformers>=4.2.0->simpletransformers) (0.0.12)\n",
      "Requirement already satisfied: sacremoses in c:\\users\\valon_januzaj\\anaconda3\\envs\\python-model\\lib\\site-packages (from transformers>=4.2.0->simpletransformers) (0.0.45)\n",
      "Requirement already satisfied: filelock in c:\\users\\valon_januzaj\\anaconda3\\envs\\python-model\\lib\\site-packages (from transformers>=4.2.0->simpletransformers) (3.0.12)\n",
      "Requirement already satisfied: packaging in c:\\users\\valon_januzaj\\anaconda3\\envs\\python-model\\lib\\site-packages (from transformers>=4.2.0->simpletransformers) (20.9)\n",
      "Requirement already satisfied: typing-extensions in c:\\users\\valon_januzaj\\anaconda3\\envs\\python-model\\lib\\site-packages (from huggingface-hub==0.0.12->transformers>=4.2.0->simpletransformers) (3.10.0.0)\n",
      "Requirement already satisfied: pyparsing>=2.0.2 in c:\\users\\valon_januzaj\\anaconda3\\envs\\python-model\\lib\\site-packages (from packaging->transformers>=4.2.0->simpletransformers) (2.4.7)\n",
      "Requirement already satisfied: python-dateutil>=2.6.1 in c:\\users\\valon_januzaj\\anaconda3\\envs\\python-model\\lib\\site-packages (from wandb>=0.10.32->simpletransformers) (2.8.1)\n",
      "Collecting docker-pycreds>=0.4.0\n",
      "  Using cached docker_pycreds-0.4.0-py2.py3-none-any.whl (9.0 kB)\n",
      "Collecting promise<3,>=2.0\n",
      "  Using cached promise-2.3-py3-none-any.whl\n",
      "Collecting sentry-sdk>=0.4.0\n",
      "  Using cached sentry_sdk-1.1.0-py2.py3-none-any.whl (131 kB)\n",
      "Collecting protobuf>=3.12.0\n",
      "  Using cached protobuf-3.17.3-cp38-cp38-win_amd64.whl (909 kB)\n",
      "Collecting shortuuid>=0.5.0\n",
      "  Using cached shortuuid-1.0.1-py3-none-any.whl (7.5 kB)\n",
      "Collecting subprocess32>=3.5.3\n",
      "  Using cached subprocess32-3.5.4-py3-none-any.whl\n",
      "Collecting GitPython>=1.0.0\n",
      "  Using cached GitPython-3.1.18-py3-none-any.whl (170 kB)\n",
      "Collecting psutil>=5.0.0\n",
      "  Downloading psutil-5.8.0-cp38-cp38-win_amd64.whl (245 kB)\n",
      "Collecting configparser>=3.8.1\n",
      "  Using cached configparser-5.0.2-py3-none-any.whl (19 kB)\n",
      "Collecting pathtools\n",
      "  Using cached pathtools-0.1.2-py3-none-any.whl\n",
      "Requirement already satisfied: six>=1.13.0 in c:\\users\\valon_januzaj\\anaconda3\\envs\\python-model\\lib\\site-packages (from wandb>=0.10.32->simpletransformers) (1.16.0)\n",
      "Collecting urllib3<=1.25.11\n",
      "  Using cached urllib3-1.25.11-py2.py3-none-any.whl (127 kB)\n",
      "Requirement already satisfied: Click!=8.0.0,>=7.0 in c:\\users\\valon_januzaj\\anaconda3\\envs\\python-model\\lib\\site-packages (from wandb>=0.10.32->simpletransformers) (8.0.1)\n",
      "Requirement already satisfied: colorama in c:\\users\\valon_januzaj\\anaconda3\\envs\\python-model\\lib\\site-packages (from Click!=8.0.0,>=7.0->wandb>=0.10.32->simpletransformers) (0.4.4)\n",
      "Collecting gitdb<5,>=4.0.1\n",
      "  Using cached gitdb-4.0.7-py3-none-any.whl (63 kB)\n",
      "Collecting smmap<5,>=3.0.1\n",
      "  Using cached smmap-4.0.0-py2.py3-none-any.whl (24 kB)\n",
      "Requirement already satisfied: certifi>=2017.4.17 in c:\\users\\valon_januzaj\\anaconda3\\envs\\python-model\\lib\\site-packages (from requests->simpletransformers) (2021.5.30)\n",
      "Requirement already satisfied: chardet<5,>=3.0.2 in c:\\users\\valon_januzaj\\anaconda3\\envs\\python-model\\lib\\site-packages (from requests->simpletransformers) (4.0.0)\n",
      "Requirement already satisfied: idna<3,>=2.5 in c:\\users\\valon_januzaj\\anaconda3\\envs\\python-model\\lib\\site-packages (from requests->simpletransformers) (2.10)\n",
      "Collecting multiprocess\n",
      "  Using cached multiprocess-0.70.12.2-py38-none-any.whl (128 kB)\n",
      "Collecting xxhash\n",
      "  Using cached xxhash-2.0.2-cp38-cp38-win_amd64.whl (35 kB)\n",
      "Collecting pyarrow<4.0.0,>=1.0.0\n",
      "  Using cached pyarrow-3.0.0-cp38-cp38-win_amd64.whl (12.7 MB)\n",
      "Collecting dill\n",
      "  Using cached dill-0.3.4-py2.py3-none-any.whl (86 kB)\n",
      "Collecting fsspec\n",
      "  Downloading fsspec-2021.6.1-py3-none-any.whl (115 kB)\n",
      "Collecting tqdm>=4.47.0\n",
      "  Using cached tqdm-4.49.0-py2.py3-none-any.whl (69 kB)\n",
      "Collecting pytz>=2017.3\n",
      "  Downloading pytz-2021.1-py2.py3-none-any.whl (510 kB)\n",
      "Requirement already satisfied: joblib in c:\\users\\valon_januzaj\\anaconda3\\envs\\python-model\\lib\\site-packages (from sacremoses->transformers>=4.2.0->simpletransformers) (1.0.1)\n",
      "Collecting threadpoolctl>=2.0.0\n",
      "  Downloading threadpoolctl-2.1.0-py3-none-any.whl (12 kB)\n",
      "Collecting pydeck>=0.1.dev5\n",
      "  Using cached pydeck-0.6.2-py2.py3-none-any.whl (4.2 MB)\n",
      "Requirement already satisfied: pillow>=6.2.0 in c:\\users\\valon_januzaj\\anaconda3\\envs\\python-model\\lib\\site-packages (from streamlit->simpletransformers) (8.3.0)\n",
      "Collecting cachetools>=4.0\n",
      "  Using cached cachetools-4.2.2-py3-none-any.whl (11 kB)\n",
      "Collecting astor\n",
      "  Using cached astor-0.8.1-py2.py3-none-any.whl (27 kB)\n",
      "Requirement already satisfied: tornado>=5.0 in c:\\users\\valon_januzaj\\anaconda3\\envs\\python-model\\lib\\site-packages (from streamlit->simpletransformers) (6.1)\n",
      "Collecting tzlocal\n",
      "  Using cached tzlocal-2.1-py2.py3-none-any.whl (16 kB)\n",
      "Collecting toml\n",
      "  Downloading toml-0.10.2-py2.py3-none-any.whl (16 kB)\n",
      "Collecting base58\n",
      "  Using cached base58-2.1.0-py3-none-any.whl (5.6 kB)\n",
      "Collecting blinker\n",
      "  Using cached blinker-1.4-py3-none-any.whl\n",
      "Collecting altair>=3.2.0\n",
      "  Using cached altair-4.1.0-py3-none-any.whl (727 kB)\n",
      "Collecting watchdog\n",
      "  Downloading watchdog-2.1.3-py3-none-win_amd64.whl (75 kB)\n",
      "Collecting validators\n",
      "  Using cached validators-0.18.2-py3-none-any.whl (19 kB)\n",
      "Requirement already satisfied: attrs in c:\\users\\valon_januzaj\\anaconda3\\envs\\python-model\\lib\\site-packages (from streamlit->simpletransformers) (21.2.0)\n",
      "Collecting Click!=8.0.0,>=7.0\n",
      "  Downloading click-7.1.2-py2.py3-none-any.whl (82 kB)\n",
      "Requirement already satisfied: jsonschema in c:\\users\\valon_januzaj\\anaconda3\\envs\\python-model\\lib\\site-packages (from altair>=3.2.0->streamlit->simpletransformers) (3.2.0)\n",
      "Requirement already satisfied: entrypoints in c:\\users\\valon_januzaj\\anaconda3\\envs\\python-model\\lib\\site-packages (from altair>=3.2.0->streamlit->simpletransformers) (0.3)\n",
      "Collecting toolz\n",
      "  Downloading toolz-0.11.1-py3-none-any.whl (55 kB)\n",
      "Requirement already satisfied: jinja2 in c:\\users\\valon_januzaj\\anaconda3\\envs\\python-model\\lib\\site-packages (from altair>=3.2.0->streamlit->simpletransformers) (3.0.1)\n",
      "Collecting ipywidgets>=7.0.0\n",
      "  Downloading ipywidgets-7.6.3-py2.py3-none-any.whl (121 kB)\n",
      "Requirement already satisfied: traitlets>=4.3.2 in c:\\users\\valon_januzaj\\anaconda3\\envs\\python-model\\lib\\site-packages (from pydeck>=0.1.dev5->streamlit->simpletransformers) (5.0.5)\n",
      "Requirement already satisfied: ipykernel>=5.1.2 in c:\\users\\valon_januzaj\\anaconda3\\envs\\python-model\\lib\\site-packages (from pydeck>=0.1.dev5->streamlit->simpletransformers) (5.3.4)\n",
      "Requirement already satisfied: ipython>=5.0.0 in c:\\users\\valon_januzaj\\anaconda3\\envs\\python-model\\lib\\site-packages (from ipykernel>=5.1.2->pydeck>=0.1.dev5->streamlit->simpletransformers) (7.22.0)\n",
      "Requirement already satisfied: jupyter-client in c:\\users\\valon_januzaj\\anaconda3\\envs\\python-model\\lib\\site-packages (from ipykernel>=5.1.2->pydeck>=0.1.dev5->streamlit->simpletransformers) (6.1.12)\n",
      "Requirement already satisfied: pickleshare in c:\\users\\valon_januzaj\\anaconda3\\envs\\python-model\\lib\\site-packages (from ipython>=5.0.0->ipykernel>=5.1.2->pydeck>=0.1.dev5->streamlit->simpletransformers) (0.7.5)\n",
      "Requirement already satisfied: setuptools>=18.5 in c:\\users\\valon_januzaj\\anaconda3\\envs\\python-model\\lib\\site-packages (from ipython>=5.0.0->ipykernel>=5.1.2->pydeck>=0.1.dev5->streamlit->simpletransformers) (52.0.0.post20210125)\n",
      "Requirement already satisfied: prompt-toolkit!=3.0.0,!=3.0.1,<3.1.0,>=2.0.0 in c:\\users\\valon_januzaj\\anaconda3\\envs\\python-model\\lib\\site-packages (from ipython>=5.0.0->ipykernel>=5.1.2->pydeck>=0.1.dev5->streamlit->simpletransformers) (3.0.17)\n",
      "Requirement already satisfied: pygments in c:\\users\\valon_januzaj\\anaconda3\\envs\\python-model\\lib\\site-packages (from ipython>=5.0.0->ipykernel>=5.1.2->pydeck>=0.1.dev5->streamlit->simpletransformers) (2.9.0)\n",
      "Requirement already satisfied: jedi>=0.16 in c:\\users\\valon_januzaj\\anaconda3\\envs\\python-model\\lib\\site-packages (from ipython>=5.0.0->ipykernel>=5.1.2->pydeck>=0.1.dev5->streamlit->simpletransformers) (0.17.0)\n",
      "Requirement already satisfied: backcall in c:\\users\\valon_januzaj\\anaconda3\\envs\\python-model\\lib\\site-packages (from ipython>=5.0.0->ipykernel>=5.1.2->pydeck>=0.1.dev5->streamlit->simpletransformers) (0.2.0)\n",
      "Requirement already satisfied: decorator in c:\\users\\valon_januzaj\\anaconda3\\envs\\python-model\\lib\\site-packages (from ipython>=5.0.0->ipykernel>=5.1.2->pydeck>=0.1.dev5->streamlit->simpletransformers) (5.0.9)\n",
      "Collecting jupyterlab-widgets>=1.0.0\n",
      "  Downloading jupyterlab_widgets-1.0.0-py3-none-any.whl (243 kB)\n",
      "Collecting widgetsnbextension~=3.5.0\n",
      "  Downloading widgetsnbextension-3.5.1-py2.py3-none-any.whl (2.2 MB)\n",
      "Requirement already satisfied: nbformat>=4.2.0 in c:\\users\\valon_januzaj\\anaconda3\\envs\\python-model\\lib\\site-packages (from ipywidgets>=7.0.0->pydeck>=0.1.dev5->streamlit->simpletransformers) (5.1.3)\n",
      "Requirement already satisfied: parso>=0.7.0 in c:\\users\\valon_januzaj\\anaconda3\\envs\\python-model\\lib\\site-packages (from jedi>=0.16->ipython>=5.0.0->ipykernel>=5.1.2->pydeck>=0.1.dev5->streamlit->simpletransformers) (0.8.2)\n",
      "Requirement already satisfied: MarkupSafe>=2.0 in c:\\users\\valon_januzaj\\anaconda3\\envs\\python-model\\lib\\site-packages (from jinja2->altair>=3.2.0->streamlit->simpletransformers) (2.0.1)\n",
      "Requirement already satisfied: ipython-genutils in c:\\users\\valon_januzaj\\anaconda3\\envs\\python-model\\lib\\site-packages (from nbformat>=4.2.0->ipywidgets>=7.0.0->pydeck>=0.1.dev5->streamlit->simpletransformers) (0.2.0)\n",
      "Requirement already satisfied: jupyter-core in c:\\users\\valon_januzaj\\anaconda3\\envs\\python-model\\lib\\site-packages (from nbformat>=4.2.0->ipywidgets>=7.0.0->pydeck>=0.1.dev5->streamlit->simpletransformers) (4.7.1)\n",
      "Requirement already satisfied: pyrsistent>=0.14.0 in c:\\users\\valon_januzaj\\anaconda3\\envs\\python-model\\lib\\site-packages (from jsonschema->altair>=3.2.0->streamlit->simpletransformers) (0.17.3)\n",
      "Requirement already satisfied: wcwidth in c:\\users\\valon_januzaj\\anaconda3\\envs\\python-model\\lib\\site-packages (from prompt-toolkit!=3.0.0,!=3.0.1,<3.1.0,>=2.0.0->ipython>=5.0.0->ipykernel>=5.1.2->pydeck>=0.1.dev5->streamlit->simpletransformers) (0.2.5)\n",
      "Requirement already satisfied: notebook>=4.4.1 in c:\\users\\valon_januzaj\\anaconda3\\envs\\python-model\\lib\\site-packages (from widgetsnbextension~=3.5.0->ipywidgets>=7.0.0->pydeck>=0.1.dev5->streamlit->simpletransformers) (6.4.0)\n",
      "Requirement already satisfied: Send2Trash>=1.5.0 in c:\\users\\valon_januzaj\\anaconda3\\envs\\python-model\\lib\\site-packages (from notebook>=4.4.1->widgetsnbextension~=3.5.0->ipywidgets>=7.0.0->pydeck>=0.1.dev5->streamlit->simpletransformers) (1.5.0)\n",
      "Requirement already satisfied: nbconvert in c:\\users\\valon_januzaj\\anaconda3\\envs\\python-model\\lib\\site-packages (from notebook>=4.4.1->widgetsnbextension~=3.5.0->ipywidgets>=7.0.0->pydeck>=0.1.dev5->streamlit->simpletransformers) (6.1.0)\n",
      "Requirement already satisfied: pyzmq>=17 in c:\\users\\valon_januzaj\\anaconda3\\envs\\python-model\\lib\\site-packages (from notebook>=4.4.1->widgetsnbextension~=3.5.0->ipywidgets>=7.0.0->pydeck>=0.1.dev5->streamlit->simpletransformers) (20.0.0)\n",
      "Requirement already satisfied: argon2-cffi in c:\\users\\valon_januzaj\\anaconda3\\envs\\python-model\\lib\\site-packages (from notebook>=4.4.1->widgetsnbextension~=3.5.0->ipywidgets>=7.0.0->pydeck>=0.1.dev5->streamlit->simpletransformers) (20.1.0)\n",
      "Requirement already satisfied: terminado>=0.8.3 in c:\\users\\valon_januzaj\\anaconda3\\envs\\python-model\\lib\\site-packages (from notebook>=4.4.1->widgetsnbextension~=3.5.0->ipywidgets>=7.0.0->pydeck>=0.1.dev5->streamlit->simpletransformers) (0.9.4)\n",
      "Requirement already satisfied: prometheus-client in c:\\users\\valon_januzaj\\anaconda3\\envs\\python-model\\lib\\site-packages (from notebook>=4.4.1->widgetsnbextension~=3.5.0->ipywidgets>=7.0.0->pydeck>=0.1.dev5->streamlit->simpletransformers) (0.11.0)\n",
      "Requirement already satisfied: pywin32>=1.0 in c:\\users\\valon_januzaj\\anaconda3\\envs\\python-model\\lib\\site-packages (from jupyter-core->nbformat>=4.2.0->ipywidgets>=7.0.0->pydeck>=0.1.dev5->streamlit->simpletransformers) (227)\n",
      "Requirement already satisfied: pywinpty>=0.5 in c:\\users\\valon_januzaj\\anaconda3\\envs\\python-model\\lib\\site-packages (from terminado>=0.8.3->notebook>=4.4.1->widgetsnbextension~=3.5.0->ipywidgets>=7.0.0->pydeck>=0.1.dev5->streamlit->simpletransformers) (0.5.7)\n",
      "Requirement already satisfied: cffi>=1.0.0 in c:\\users\\valon_januzaj\\anaconda3\\envs\\python-model\\lib\\site-packages (from argon2-cffi->notebook>=4.4.1->widgetsnbextension~=3.5.0->ipywidgets>=7.0.0->pydeck>=0.1.dev5->streamlit->simpletransformers) (1.14.5)\n",
      "Requirement already satisfied: pycparser in c:\\users\\valon_januzaj\\anaconda3\\envs\\python-model\\lib\\site-packages (from cffi>=1.0.0->argon2-cffi->notebook>=4.4.1->widgetsnbextension~=3.5.0->ipywidgets>=7.0.0->pydeck>=0.1.dev5->streamlit->simpletransformers) (2.20)\n",
      "Requirement already satisfied: bleach in c:\\users\\valon_januzaj\\anaconda3\\envs\\python-model\\lib\\site-packages (from nbconvert->notebook>=4.4.1->widgetsnbextension~=3.5.0->ipywidgets>=7.0.0->pydeck>=0.1.dev5->streamlit->simpletransformers) (3.3.0)\n",
      "Requirement already satisfied: pandocfilters>=1.4.1 in c:\\users\\valon_januzaj\\anaconda3\\envs\\python-model\\lib\\site-packages (from nbconvert->notebook>=4.4.1->widgetsnbextension~=3.5.0->ipywidgets>=7.0.0->pydeck>=0.1.dev5->streamlit->simpletransformers) (1.4.3)\n",
      "Requirement already satisfied: defusedxml in c:\\users\\valon_januzaj\\anaconda3\\envs\\python-model\\lib\\site-packages (from nbconvert->notebook>=4.4.1->widgetsnbextension~=3.5.0->ipywidgets>=7.0.0->pydeck>=0.1.dev5->streamlit->simpletransformers) (0.7.1)\n",
      "Requirement already satisfied: testpath in c:\\users\\valon_januzaj\\anaconda3\\envs\\python-model\\lib\\site-packages (from nbconvert->notebook>=4.4.1->widgetsnbextension~=3.5.0->ipywidgets>=7.0.0->pydeck>=0.1.dev5->streamlit->simpletransformers) (0.5.0)\n",
      "Requirement already satisfied: mistune<2,>=0.8.1 in c:\\users\\valon_januzaj\\anaconda3\\envs\\python-model\\lib\\site-packages (from nbconvert->notebook>=4.4.1->widgetsnbextension~=3.5.0->ipywidgets>=7.0.0->pydeck>=0.1.dev5->streamlit->simpletransformers) (0.8.4)\n",
      "Requirement already satisfied: jupyterlab-pygments in c:\\users\\valon_januzaj\\anaconda3\\envs\\python-model\\lib\\site-packages (from nbconvert->notebook>=4.4.1->widgetsnbextension~=3.5.0->ipywidgets>=7.0.0->pydeck>=0.1.dev5->streamlit->simpletransformers) (0.1.2)\n",
      "Requirement already satisfied: nbclient<0.6.0,>=0.5.0 in c:\\users\\valon_januzaj\\anaconda3\\envs\\python-model\\lib\\site-packages (from nbconvert->notebook>=4.4.1->widgetsnbextension~=3.5.0->ipywidgets>=7.0.0->pydeck>=0.1.dev5->streamlit->simpletransformers) (0.5.3)\n",
      "Requirement already satisfied: nest-asyncio in c:\\users\\valon_januzaj\\anaconda3\\envs\\python-model\\lib\\site-packages (from nbclient<0.6.0,>=0.5.0->nbconvert->notebook>=4.4.1->widgetsnbextension~=3.5.0->ipywidgets>=7.0.0->pydeck>=0.1.dev5->streamlit->simpletransformers) (1.5.1)\n",
      "Requirement already satisfied: async-generator in c:\\users\\valon_januzaj\\anaconda3\\envs\\python-model\\lib\\site-packages (from nbclient<0.6.0,>=0.5.0->nbconvert->notebook>=4.4.1->widgetsnbextension~=3.5.0->ipywidgets>=7.0.0->pydeck>=0.1.dev5->streamlit->simpletransformers) (1.10)\n",
      "Requirement already satisfied: webencodings in c:\\users\\valon_januzaj\\anaconda3\\envs\\python-model\\lib\\site-packages (from bleach->nbconvert->notebook>=4.4.1->widgetsnbextension~=3.5.0->ipywidgets>=7.0.0->pydeck>=0.1.dev5->streamlit->simpletransformers) (0.5.1)\n",
      "Installing collected packages: widgetsnbextension, urllib3, smmap, pytz, jupyterlab-widgets, tqdm, toolz, threadpoolctl, scipy, pandas, ipywidgets, gitdb, dill, Click, xxhash, watchdog, validators, tzlocal, toml, subprocess32, shortuuid, sentry-sdk, scikit-learn, pydeck, pyarrow, psutil, protobuf, promise, pathtools, multiprocess, GitPython, fsspec, docker-pycreds, configparser, cachetools, blinker, base58, astor, altair, wandb, tensorboardx, streamlit, seqeval, sentencepiece, datasets, simpletransformers\n",
      "  Attempting uninstall: urllib3\n",
      "    Found existing installation: urllib3 1.26.6\n",
      "    Uninstalling urllib3-1.26.6:\n",
      "      Successfully uninstalled urllib3-1.26.6\n",
      "  Attempting uninstall: tqdm\n",
      "    Found existing installation: tqdm 4.61.1\n",
      "    Uninstalling tqdm-4.61.1:\n",
      "      Successfully uninstalled tqdm-4.61.1\n",
      "  Attempting uninstall: Click\n",
      "    Found existing installation: click 8.0.1\n",
      "    Uninstalling click-8.0.1:\n",
      "      Successfully uninstalled click-8.0.1\n",
      "Successfully installed Click-7.1.2 GitPython-3.1.18 altair-4.1.0 astor-0.8.1 base58-2.1.0 blinker-1.4 cachetools-4.2.2 configparser-5.0.2 datasets-1.8.0 dill-0.3.4 docker-pycreds-0.4.0 fsspec-2021.6.1 gitdb-4.0.7 ipywidgets-7.6.3 jupyterlab-widgets-1.0.0 multiprocess-0.70.12.2 pandas-1.2.5 pathtools-0.1.2 promise-2.3 protobuf-3.17.3 psutil-5.8.0 pyarrow-3.0.0 pydeck-0.6.2 pytz-2021.1 scikit-learn-0.24.2 scipy-1.7.0 sentencepiece-0.1.96 sentry-sdk-1.1.0 seqeval-1.2.2 shortuuid-1.0.1 simpletransformers-0.61.9 smmap-4.0.0 streamlit-0.84.0 subprocess32-3.5.4 tensorboardx-2.4 threadpoolctl-2.1.0 toml-0.10.2 toolz-0.11.1 tqdm-4.49.0 tzlocal-2.1 urllib3-1.25.11 validators-0.18.2 wandb-0.10.33 watchdog-2.1.3 widgetsnbextension-3.5.1 xxhash-2.0.2\n"
     ]
    }
   ],
   "source": [
    "! pip install torch==1.6.0+cu101 torchvision==0.7.0+cu101 -f https://download.pytorch.org/whl/torch_stable.html\n",
    "! pip install -U transformers\n",
    "! pip install -U simpletransformers  "
   ]
  },
  {
   "cell_type": "code",
   "execution_count": 4,
   "id": "9e4fe098",
   "metadata": {},
   "outputs": [],
   "source": [
    "import json\n",
    "\n",
    "data_file = 'arxiv-metadata-oai-snapshot.json'\n",
    "\n",
    "# Helper function to load the dataset\n",
    "def get_metadata():\n",
    "    with open(data_file, 'r') as f:\n",
    "        for line in f:\n",
    "            yield line"
   ]
  },
  {
   "cell_type": "code",
   "execution_count": 5,
   "id": "07a4bc71",
   "metadata": {},
   "outputs": [
    {
     "name": "stdout",
     "output_type": "stream",
     "text": [
      "Title: Calculation of prompt diphoton production cross sections at Tevatron and\n",
      "  LHC energies\n",
      "\n",
      "Abstract:   A fully differential calculation in perturbative quantum chromodynamics is\n",
      "presented for the production of massive photon pairs at hadron colliders. All\n",
      "next-to-leading order perturbative contributions from quark-antiquark,\n",
      "gluon-(anti)quark, and gluon-gluon subprocesses are included, as well as\n",
      "all-orders resummation of initial-state gluon radiation valid at\n",
      "next-to-next-to-leading logarithmic accuracy. The region of phase space is\n",
      "specified in which the calculation is most reliable. Good agreement is\n",
      "demonstrated with data from the Fermilab Tevatron, and predictions are made for\n",
      "more detailed tests with CDF and DO data. Predictions are shown for\n",
      "distributions of diphoton pairs produced at the energy of the Large Hadron\n",
      "Collider (LHC). Distributions of the diphoton pairs from the decay of a Higgs\n",
      "boson are contrasted with those produced from QCD processes at the LHC, showing\n",
      "that enhanced sensitivity to the signal can be obtained with judicious\n",
      "selection of events.\n",
      "\n",
      "Ref: Phys.Rev.D76:013009,2007\n"
     ]
    }
   ],
   "source": [
    "# let's see the first row of the data\n",
    "metadata = get_metadata()\n",
    "for paper in metadata:\n",
    "    paper_dict = json.loads(paper)\n",
    "    print('Title: {}\\n\\nAbstract: {}\\nRef: {}'.format(paper_dict.get('title'), paper_dict.get('abstract'), paper_dict.get('journal-ref')))\n",
    "#     print(paper)\n",
    "    break"
   ]
  },
  {
   "cell_type": "code",
   "execution_count": 6,
   "id": "1de743c8",
   "metadata": {},
   "outputs": [
    {
     "data": {
      "text/plain": [
       "(500, 500, 500)"
      ]
     },
     "execution_count": 6,
     "metadata": {},
     "output_type": "execute_result"
    }
   ],
   "source": [
    "titles = []\n",
    "abstracts = []\n",
    "years = []\n",
    "metadata = get_metadata()\n",
    "for paper in metadata:\n",
    "    paper_dict = json.loads(paper)\n",
    "    ref = paper_dict.get('journal-ref')\n",
    "    try:\n",
    "        year = int(ref[-4:]) \n",
    "        if 2020 < year < 2022:\n",
    "            if len(titles) == 500:\n",
    "                break\n",
    "            years.append(year)\n",
    "            titles.append(paper_dict.get('title'))\n",
    "            abstracts.append(paper_dict.get('abstract'))\n",
    "    except:\n",
    "        pass \n",
    "\n",
    "len(titles), len(abstracts), len(years)"
   ]
  },
  {
   "cell_type": "code",
   "execution_count": 8,
   "id": "a5b46371",
   "metadata": {},
   "outputs": [
    {
     "data": {
      "text/html": [
       "<div>\n",
       "<style scoped>\n",
       "    .dataframe tbody tr th:only-of-type {\n",
       "        vertical-align: middle;\n",
       "    }\n",
       "\n",
       "    .dataframe tbody tr th {\n",
       "        vertical-align: top;\n",
       "    }\n",
       "\n",
       "    .dataframe thead th {\n",
       "        text-align: right;\n",
       "    }\n",
       "</style>\n",
       "<table border=\"1\" class=\"dataframe\">\n",
       "  <thead>\n",
       "    <tr style=\"text-align: right;\">\n",
       "      <th></th>\n",
       "      <th>title</th>\n",
       "      <th>abstract</th>\n",
       "      <th>year</th>\n",
       "    </tr>\n",
       "  </thead>\n",
       "  <tbody>\n",
       "    <tr>\n",
       "      <th>0</th>\n",
       "      <td>On Path diagrams and Stirling permutations</td>\n",
       "      <td>A permutation can be locally classified acco...</td>\n",
       "      <td>2021</td>\n",
       "    </tr>\n",
       "    <tr>\n",
       "      <th>1</th>\n",
       "      <td>Onset of inertial magnetoconvection in rotatin...</td>\n",
       "      <td>The onset of convection in the form of magne...</td>\n",
       "      <td>2021</td>\n",
       "    </tr>\n",
       "    <tr>\n",
       "      <th>2</th>\n",
       "      <td>A model of compact polymers on a family of thr...</td>\n",
       "      <td>We study Hamiltonian walks (HWs) on the fami...</td>\n",
       "      <td>2021</td>\n",
       "    </tr>\n",
       "    <tr>\n",
       "      <th>3</th>\n",
       "      <td>A systematic approach to the Planck LFI end-to...</td>\n",
       "      <td>The Level 1 of the Planck LFI Data Processin...</td>\n",
       "      <td>2021</td>\n",
       "    </tr>\n",
       "    <tr>\n",
       "      <th>4</th>\n",
       "      <td>Gravitational waves from cosmological phase tr...</td>\n",
       "      <td>I discuss the generation of a stochastic bac...</td>\n",
       "      <td>2021</td>\n",
       "    </tr>\n",
       "  </tbody>\n",
       "</table>\n",
       "</div>"
      ],
      "text/plain": [
       "                                               title  \\\n",
       "0         On Path diagrams and Stirling permutations   \n",
       "1  Onset of inertial magnetoconvection in rotatin...   \n",
       "2  A model of compact polymers on a family of thr...   \n",
       "3  A systematic approach to the Planck LFI end-to...   \n",
       "4  Gravitational waves from cosmological phase tr...   \n",
       "\n",
       "                                            abstract  year  \n",
       "0    A permutation can be locally classified acco...  2021  \n",
       "1    The onset of convection in the form of magne...  2021  \n",
       "2    We study Hamiltonian walks (HWs) on the fami...  2021  \n",
       "3    The Level 1 of the Planck LFI Data Processin...  2021  \n",
       "4    I discuss the generation of a stochastic bac...  2021  "
      ]
     },
     "execution_count": 8,
     "metadata": {},
     "output_type": "execute_result"
    }
   ],
   "source": [
    "import pandas as pd\n",
    "papers = pd.DataFrame({\n",
    "    'title': titles,\n",
    "    'abstract': abstracts,\n",
    "    'year': years\n",
    "})\n",
    "papers.head()"
   ]
  },
  {
   "cell_type": "code",
   "execution_count": 9,
   "id": "42361c39",
   "metadata": {},
   "outputs": [
    {
     "data": {
      "text/plain": [
       "((400, 3), (100, 3))"
      ]
     },
     "execution_count": 9,
     "metadata": {},
     "output_type": "execute_result"
    }
   ],
   "source": [
    "# Adding <input_text> and <target_text> columns\n",
    "papers = papers[['title','abstract']]\n",
    "papers.columns = ['input_text', 'target_text']\n",
    "\n",
    "# Adding <prefix> columns\n",
    "papers['prefix'] = \"summarize\"\n",
    "\n",
    "# splitting the data into training and test dataset\n",
    "eval_df = papers.sample(frac=0.2, random_state=101)\n",
    "train_df = papers.drop(eval_df.index)\n",
    "\n",
    "train_df.shape, eval_df.shape"
   ]
  },
  {
   "cell_type": "code",
   "execution_count": 10,
   "id": "703045b8",
   "metadata": {},
   "outputs": [
    {
     "name": "stderr",
     "output_type": "stream",
     "text": [
      "INFO:simpletransformers.t5.t5_utils: Creating features from dataset file at cache_dir/\n"
     ]
    },
    {
     "data": {
      "application/vnd.jupyter.widget-view+json": {
       "model_id": "eda4988af18b4580bc94137b38646215",
       "version_major": 2,
       "version_minor": 0
      },
      "text/plain": [
       "HBox(children=(FloatProgress(value=0.0, max=400.0), HTML(value='')))"
      ]
     },
     "metadata": {},
     "output_type": "display_data"
    },
    {
     "name": "stderr",
     "output_type": "stream",
     "text": [
      "INFO:simpletransformers.t5.t5_utils: Saving features into cached file cache_dir/t5-small_cached_512400\n",
      "INFO:simpletransformers.t5.t5_model: Training started\n"
     ]
    },
    {
     "name": "stdout",
     "output_type": "stream",
     "text": [
      "\n",
      "Using Adafactor for T5\n"
     ]
    },
    {
     "data": {
      "application/vnd.jupyter.widget-view+json": {
       "model_id": "d2c3f15003d042ca8448047bb1ea420f",
       "version_major": 2,
       "version_minor": 0
      },
      "text/plain": [
       "HBox(children=(FloatProgress(value=0.0, description='Epoch', max=4.0, style=ProgressStyle(description_width='i…"
      ]
     },
     "metadata": {},
     "output_type": "display_data"
    },
    {
     "data": {
      "application/vnd.jupyter.widget-view+json": {
       "model_id": "0063491ed3184926aec779c211092260",
       "version_major": 2,
       "version_minor": 0
      },
      "text/plain": [
       "HBox(children=(FloatProgress(value=0.0, description='Running Epoch 0 of 4', max=25.0, style=ProgressStyle(desc…"
      ]
     },
     "metadata": {},
     "output_type": "display_data"
    },
    {
     "name": "stdout",
     "output_type": "stream",
     "text": [
      "\n"
     ]
    },
    {
     "name": "stderr",
     "output_type": "stream",
     "text": [
      "C:\\Users\\valon_januzaj\\anaconda3\\envs\\python-model\\lib\\site-packages\\torch\\optim\\lr_scheduler.py:200: UserWarning: Please also save or load the state of the optimzer when saving or loading the scheduler.\n",
      "  warnings.warn(SAVE_STATE_WARNING, UserWarning)\n"
     ]
    },
    {
     "data": {
      "application/vnd.jupyter.widget-view+json": {
       "model_id": "2d3b848bd74745538f3490f048406266",
       "version_major": 2,
       "version_minor": 0
      },
      "text/plain": [
       "HBox(children=(FloatProgress(value=0.0, description='Running Epoch 1 of 4', max=25.0, style=ProgressStyle(desc…"
      ]
     },
     "metadata": {},
     "output_type": "display_data"
    },
    {
     "name": "stdout",
     "output_type": "stream",
     "text": [
      "\n"
     ]
    },
    {
     "data": {
      "application/vnd.jupyter.widget-view+json": {
       "model_id": "ea868125714b448bb4cda015e74a9727",
       "version_major": 2,
       "version_minor": 0
      },
      "text/plain": [
       "HBox(children=(FloatProgress(value=0.0, description='Running Epoch 2 of 4', max=25.0, style=ProgressStyle(desc…"
      ]
     },
     "metadata": {},
     "output_type": "display_data"
    },
    {
     "name": "stdout",
     "output_type": "stream",
     "text": [
      "\n"
     ]
    },
    {
     "data": {
      "application/vnd.jupyter.widget-view+json": {
       "model_id": "da0535b2d1f44d398bba6e59967b0f8d",
       "version_major": 2,
       "version_minor": 0
      },
      "text/plain": [
       "HBox(children=(FloatProgress(value=0.0, description='Running Epoch 3 of 4', max=25.0, style=ProgressStyle(desc…"
      ]
     },
     "metadata": {},
     "output_type": "display_data"
    },
    {
     "name": "stdout",
     "output_type": "stream",
     "text": [
      "\n",
      "\n"
     ]
    },
    {
     "name": "stderr",
     "output_type": "stream",
     "text": [
      "INFO:simpletransformers.t5.t5_model: Training of t5-small model complete. Saved to outputs/.\n",
      "INFO:simpletransformers.t5.t5_utils: Creating features from dataset file at cache_dir/\n"
     ]
    },
    {
     "data": {
      "application/vnd.jupyter.widget-view+json": {
       "model_id": "fc0a3abce365453fb91075c588476741",
       "version_major": 2,
       "version_minor": 0
      },
      "text/plain": [
       "HBox(children=(FloatProgress(value=0.0), HTML(value='')))"
      ]
     },
     "metadata": {},
     "output_type": "display_data"
    },
    {
     "name": "stderr",
     "output_type": "stream",
     "text": [
      "INFO:simpletransformers.t5.t5_utils: Saving features into cached file cache_dir/t5-small_cached_512100\n"
     ]
    },
    {
     "name": "stdout",
     "output_type": "stream",
     "text": [
      "\n"
     ]
    },
    {
     "data": {
      "application/vnd.jupyter.widget-view+json": {
       "model_id": "8196bb716a3f4662aa3a36a7974e1de6",
       "version_major": 2,
       "version_minor": 0
      },
      "text/plain": [
       "HBox(children=(FloatProgress(value=0.0, description='Running Evaluation', max=13.0, style=ProgressStyle(descri…"
      ]
     },
     "metadata": {},
     "output_type": "display_data"
    },
    {
     "name": "stderr",
     "output_type": "stream",
     "text": [
      "INFO:simpletransformers.t5.t5_model:{'eval_loss': 3.8267076932466946}\n"
     ]
    },
    {
     "name": "stdout",
     "output_type": "stream",
     "text": [
      "\n",
      "{'eval_loss': 3.8267076932466946}\n"
     ]
    }
   ],
   "source": [
    "import logging\n",
    "\n",
    "import pandas as pd\n",
    "from simpletransformers.t5 import T5Model\n",
    "\n",
    "logging.basicConfig(level=logging.INFO)\n",
    "transformers_logger = logging.getLogger(\"transformers\")\n",
    "transformers_logger.setLevel(logging.WARNING)\n",
    "\n",
    "# T5 Training parameters\n",
    "model_args = {\n",
    "    \"reprocess_input_data\": True,\n",
    "    \"overwrite_output_dir\": True,\n",
    "    \"max_seq_length\": 512,\n",
    "    \"train_batch_size\": 16,\n",
    "    \"num_train_epochs\": 4,\n",
    "}\n",
    "\n",
    "# Create T5 Model\n",
    "model = T5Model(model_name=\"t5-small\",model_type=\"t5\", args=model_args, use_cuda=False)\n",
    "\n",
    "# Train T5 Model on new task\n",
    "model.train_model(train_df)\n",
    "\n",
    "# Evaluate T5 Model on new task\n",
    "results = model.eval_model(eval_df)\n",
    "\n",
    "print(results)"
   ]
  },
  {
   "cell_type": "code",
   "execution_count": null,
   "id": "882a841a",
   "metadata": {},
   "outputs": [],
   "source": []
  }
 ],
 "metadata": {
  "kernelspec": {
   "display_name": "Python 3",
   "language": "python",
   "name": "python3"
  },
  "language_info": {
   "codemirror_mode": {
    "name": "ipython",
    "version": 3
   },
   "file_extension": ".py",
   "mimetype": "text/x-python",
   "name": "python",
   "nbconvert_exporter": "python",
   "pygments_lexer": "ipython3",
   "version": "3.8.10"
  }
 },
 "nbformat": 4,
 "nbformat_minor": 5
}
